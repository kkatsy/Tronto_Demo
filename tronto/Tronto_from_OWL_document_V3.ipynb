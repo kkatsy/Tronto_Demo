{
  "nbformat": 4,
  "nbformat_minor": 0,
  "metadata": {
    "kernelspec": {
      "display_name": "Python 3",
      "language": "python",
      "name": "python3"
    },
    "language_info": {
      "codemirror_mode": {
        "name": "ipython",
        "version": 3
      },
      "file_extension": ".py",
      "mimetype": "text/x-python",
      "name": "python",
      "nbconvert_exporter": "python",
      "pygments_lexer": "ipython3",
      "version": "3.7.6"
    },
    "colab": {
      "name": "Tronto_from_OWL_document_V3.ipynb",
      "provenance": [],
      "toc_visible": true
    }
  },
  "cells": [
    {
      "cell_type": "markdown",
      "metadata": {
        "id": "2P5VKJtkJCbS"
      },
      "source": [
        "## 1. TRONTO from OWL document"
      ]
    },
    {
      "cell_type": "markdown",
      "metadata": {
        "id": "vFeUSWK0JCbX"
      },
      "source": [
        "_To speed up the making of an ontology, we will write it directly as an OWL document. This notebook shows the steps that need to be taken to achieve that goal._"
      ]
    },
    {
      "cell_type": "markdown",
      "metadata": {
        "id": "C61aZypsJCbY"
      },
      "source": [
        "The ontology we are going to load has been written directly as an OWL document (i.e. an XML document following the rdf specifications). For a reference on the OWL programming language, see https://www.w3.org/TR/owl-guide/ and Chapter 3 (file://Users/raranovi/Documents/Research/SemanticWeb/WOHLGENANNT_2011/j.ctv9hj8nd.5.pdf) of Wohlgenannt (2011).\n",
        "\n",
        "The ontology models the relations between two major taxonomical domains: one for \"configurations\" of software and hardware and another one for vulnerabilities. Configurations have vulnerabilities (they can be understood as parts of configurations, flaws of design that render a system open to a malicious attack). We model the domains on two structured sources of information: the National Vulnerabilities Database (NVD) and NIST's Common Platform Enumeration (CPE). \n",
        "\n",
        "NVD uses a slice of the Common Weaknesses Enumeration to classify vulnerabilities. This slice forms the taxonomic backbone of the Vulnerabilities portion of the ontology (with an additional class for unclassified vulnerabilities: NVDCWEnoinfo\"). Individual vulnerabilities (reported in the Common Vulnerabilities and Exploits database, CVE) are the instances.\n",
        "\n",
        "CPE offers a dictionary with Individual Resource Identifiers (IRI) for a vast array of computer systems and components. The major segments of an IRI are \"part\" \"vendor\" and \"product\". \"Part\" classifies configurations into \"application\" \"operating system\" and \"hardware\" , and gives us the first taxonomic layer of the configurations part of the ontology. Products are the instances of this part of the ontology. Products may have other attributes (e.g. vendor, language, etc.) which we may choose to model as separate classes (even though \"vendor\" is a higher-order attribute than \"product\", a product is a configuration, but a vendor is not). \n",
        "\n",
        "https://nvd.nist.gov/General/News/NVD-CWE-Slice-Update-2019  \n",
        "https://nvd.nist.gov/vuln/categories/cwe-layout  \n",
        "https://cwe.mitre.org/data/definitions/1003.html  \n",
        "https://nvd.nist.gov/products/cpe  \n",
        "https://csrc.nist.gov/projects/security-content-automation-protocol/specifications/cpe  \n",
        "https://csrc.nist.gov/publications/detail/nistir/7695/final  \n",
        "https://csrc.nist.gov/publications/detail/nistir/7696/final  \n",
        "https://csrc.nist.gov/publications/detail/nistir/7697/final  \n",
        "https://csrc.nist.gov/publications/detail/nistir/7698/final  \n"
      ]
    },
    {
      "cell_type": "markdown",
      "metadata": {
        "id": "RxyAbTf0JCbY"
      },
      "source": [
        "The basic document has two major classes (Vulnerability and Configuration), and their sub-classes, as well as a property `has_vulnerability` that takes a Configuration as its domain and a Vulnerability as its range. We also define an inverse relation `is_vulnerability_of`. There is a second property `has_severity_score`, a data type property, that specifies the severity score of a vulnerability, and a third property `depends_on` that relates configurations to configurations and is transitive.\n",
        "\n",
        "The goal of the ontology is to duct the status of a configuration (i.e. an application) as vulnerable or safe, depending on the vulnerabilities that affect it or  the configurations it depends on. \n",
        "\n",
        "The rest of the work will consist in processing a NVD feed to enrich the ontology with instances and relations."
      ]
    },
    {
      "cell_type": "markdown",
      "metadata": {
        "id": "Nnfuc0j_JCbY"
      },
      "source": [
        "### Adding instances to the existing ontology"
      ]
    },
    {
      "cell_type": "markdown",
      "metadata": {
        "id": "6--fQRGUJCbZ"
      },
      "source": [
        "NVD entries can be retrieved in JSON format from the NVD Json feed page:\n",
        "\n",
        "https://nvd.nist.gov/vuln/data-feeds#JSON_FEED\n",
        "\n",
        "Json strings can be turned into python dicts in a simple way:\n",
        "\n",
        "https://www.w3schools.com/python/python_json.asp\n",
        "\n",
        "After we do that, it is possible to extract the structured information we need to populate an ontology.\n",
        "\n",
        "The json feed is a dict. The `CVE_Items` key has as its value a list of CVEs. Each individual CVE is in turn a dict. Each item in this dict encodes some information about the CVE. Below is an example of one particular CVE."
      ]
    },
    {
      "cell_type": "markdown",
      "metadata": {
        "id": "UMQgBbhgJCbZ"
      },
      "source": [
        "This is a string including the information from one of the NVD entries.\n",
        "This is a sample that we used to fine-tune the information extraction\n",
        "process.\n",
        "\n",
        "~~~~\n",
        "cve_J = \"\"\"{\n",
        "    \"cve\" : {\n",
        "      \"data_type\" : \"CVE\",\n",
        "      \"data_format\" : \"MITRE\",\n",
        "      \"data_version\" : \"4.0\",\n",
        "      \"CVE_data_meta\" : {\n",
        "        \"ID\" : \"CVE-2019-0001\",\n",
        "        \"ASSIGNER\" : \"cve@mitre.org\"\n",
        "      },\n",
        "      \"problemtype\" : {\n",
        "        \"problemtype_data\" : [ {\n",
        "          \"description\" : [ {\n",
        "            \"lang\" : \"en\",\n",
        "            \"value\" : \"CWE-400\"\n",
        "          } ]\n",
        "        } ]\n",
        "      },\n",
        "      \"references\" : {\n",
        "        \"reference_data\" : [ {\n",
        "          \"url\" : \"http://www.securityfocus.com/bid/106541\",\n",
        "          \"name\" : \"106541\",\n",
        "          \"refsource\" : \"BID\",\n",
        "          \"tags\" : [ \"Third Party Advisory\", \"VDB Entry\" ]\n",
        "        }, {\n",
        "          \"url\" : \"https://kb.juniper.net/JSA10900\",\n",
        "          \"name\" : \"https://kb.juniper.net/JSA10900\",\n",
        "          \"refsource\" : \"CONFIRM\",\n",
        "          \"tags\" : [ \"Vendor Advisory\" ]\n",
        "        }, {\n",
        "          \"url\" : \"https://lists.fedoraproject.org/archives/list/package-announce@lists.fedoraproject.org/message/RMKFSHPMOZL7MDWU5RYOTIBTRWSZ4Z6X/\",\n",
        "          \"name\" : \"FEDORA-2019-5f14b810f8\",\n",
        "          \"refsource\" : \"FEDORA\",\n",
        "          \"tags\" : [ ]\n",
        "        }, {\n",
        "          \"url\" : \"https://lists.fedoraproject.org/archives/list/package-announce@lists.fedoraproject.org/message/W7CPKBW4QZ4VIY4UXIUVUSHRJ4R2FROE/\",\n",
        "          \"name\" : \"FEDORA-2019-815807c020\",\n",
        "          \"refsource\" : \"FEDORA\",\n",
        "          \"tags\" : [ ]\n",
        "        } ]\n",
        "      },\n",
        "      \"description\" : {\n",
        "        \"description_data\" : [ {\n",
        "          \"lang\" : \"en\",\n",
        "          \"value\" : \"Receipt of a malformed packet on MX Series devices with dynamic vlan configuration can trigger an uncontrolled recursion loop in the Broadband Edge subscriber management daemon (bbe-smgd), and lead to high CPU usage and a crash of the bbe-smgd service. Repeated receipt of the same packet can result in an extended denial of service condition for the device. Affected releases are Juniper Networks Junos OS: 16.1 versions prior to 16.1R7-S1; 16.2 versions prior to 16.2R2-S7; 17.1 versions prior to 17.1R2-S10, 17.1R3; 17.2 versions prior to 17.2R3; 17.3 versions prior to 17.3R3-S1; 17.4 versions prior to 17.4R2; 18.1 versions prior to 18.1R3; 18.2 versions prior to 18.2R2.\"\n",
        "        } ]\n",
        "      }\n",
        "    },\n",
        "    \"configurations\" : {\n",
        "      \"CVE_data_version\" : \"4.0\",\n",
        "      \"nodes\" : [ {\n",
        "        \"operator\" : \"OR\",\n",
        "        \"cpe_match\" : [ {\n",
        "          \"vulnerable\" : true,\n",
        "          \"cpe23Uri\" : \"cpe:2.3:o:juniper:junos:16.1:*:*:*:*:*:*:*\"\n",
        "        }, {\n",
        "          \"vulnerable\" : true,\n",
        "          \"cpe23Uri\" : \"cpe:2.3:o:juniper:junos:16.1:r1:*:*:*:*:*:*\"\n",
        "        }, {\n",
        "          \"vulnerable\" : true,\n",
        "          \"cpe23Uri\" : \"cpe:2.3:o:juniper:junos:16.1:r2:*:*:*:*:*:*\"\n",
        "        }, {\n",
        "          \"vulnerable\" : true,\n",
        "          \"cpe23Uri\" : \"cpe:2.3:o:juniper:junos:16.1:r3:*:*:*:*:*:*\"\n",
        "        }, {\n",
        "          \"vulnerable\" : true,\n",
        "          \"cpe23Uri\" : \"cpe:2.3:o:juniper:junos:16.1:r3-s10:*:*:*:*:*:*\"\n",
        "        }, {\n",
        "          \"vulnerable\" : true,\n",
        "          \"cpe23Uri\" : \"cpe:2.3:o:juniper:junos:16.1:r4:*:*:*:*:*:*\"\n",
        "        }, {\n",
        "          \"vulnerable\" : true,\n",
        "          \"cpe23Uri\" : \"cpe:2.3:o:juniper:junos:16.1:r5:*:*:*:*:*:*\"\n",
        "        }, {\n",
        "          \"vulnerable\" : true,\n",
        "          \"cpe23Uri\" : \"cpe:2.3:o:juniper:junos:16.1:r6:*:*:*:*:*:*\"\n",
        "        }, {\n",
        "          \"vulnerable\" : true,\n",
        "          \"cpe23Uri\" : \"cpe:2.3:o:juniper:junos:16.1:r6-s6:*:*:*:*:*:*\"\n",
        "        }, {\n",
        "          \"vulnerable\" : true,\n",
        "          \"cpe23Uri\" : \"cpe:2.3:o:juniper:junos:16.1:r7:*:*:*:*:*:*\"\n",
        "        } ]\n",
        "      }, {\n",
        "        \"operator\" : \"OR\",\n",
        "        \"cpe_match\" : [ {\n",
        "          \"vulnerable\" : true,\n",
        "          \"cpe23Uri\" : \"cpe:2.3:o:juniper:junos:16.2:*:*:*:*:*:*:*\"\n",
        "        }, {\n",
        "          \"vulnerable\" : true,\n",
        "          \"cpe23Uri\" : \"cpe:2.3:o:juniper:junos:16.2:r1:*:*:*:*:*:*\"\n",
        "        }, {\n",
        "          \"vulnerable\" : true,\n",
        "          \"cpe23Uri\" : \"cpe:2.3:o:juniper:junos:16.2:r2:*:*:*:*:*:*\"\n",
        "        } ]\n",
        "      }, {\n",
        "        \"operator\" : \"OR\",\n",
        "        \"cpe_match\" : [ {\n",
        "          \"vulnerable\" : true,\n",
        "          \"cpe23Uri\" : \"cpe:2.3:o:juniper:junos:17.1:*:*:*:*:*:*:*\"\n",
        "        }, {\n",
        "          \"vulnerable\" : true,\n",
        "          \"cpe23Uri\" : \"cpe:2.3:o:juniper:junos:17.1:r1:*:*:*:*:*:*\"\n",
        "        }, {\n",
        "          \"vulnerable\" : true,\n",
        "          \"cpe23Uri\" : \"cpe:2.3:o:juniper:junos:17.1:r2:*:*:*:*:*:*\"\n",
        "        } ]\n",
        "      }, {\n",
        "        \"operator\" : \"OR\",\n",
        "        \"cpe_match\" : [ {\n",
        "          \"vulnerable\" : true,\n",
        "          \"cpe23Uri\" : \"cpe:2.3:o:juniper:junos:17.2:*:*:*:*:*:*:*\"\n",
        "        }, {\n",
        "          \"vulnerable\" : true,\n",
        "          \"cpe23Uri\" : \"cpe:2.3:o:juniper:junos:17.2:r1:*:*:*:*:*:*\"\n",
        "        }, {\n",
        "          \"vulnerable\" : true,\n",
        "          \"cpe23Uri\" : \"cpe:2.3:o:juniper:junos:17.2:r1-s7:*:*:*:*:*:*\"\n",
        "        }, {\n",
        "          \"vulnerable\" : true,\n",
        "          \"cpe23Uri\" : \"cpe:2.3:o:juniper:junos:17.2:r2:*:*:*:*:*:*\"\n",
        "        } ]\n",
        "      }, {\n",
        "        \"operator\" : \"OR\",\n",
        "        \"cpe_match\" : [ {\n",
        "          \"vulnerable\" : true,\n",
        "          \"cpe23Uri\" : \"cpe:2.3:o:juniper:junos:17.3:*:*:*:*:*:*:*\"\n",
        "        }, {\n",
        "          \"vulnerable\" : true,\n",
        "          \"cpe23Uri\" : \"cpe:2.3:o:juniper:junos:17.3:r1:*:*:*:*:*:*\"\n",
        "        }, {\n",
        "          \"vulnerable\" : true,\n",
        "          \"cpe23Uri\" : \"cpe:2.3:o:juniper:junos:17.3:r2:*:*:*:*:*:*\"\n",
        "        } ]\n",
        "      }, {\n",
        "        \"operator\" : \"OR\",\n",
        "        \"cpe_match\" : [ {\n",
        "          \"vulnerable\" : true,\n",
        "          \"cpe23Uri\" : \"cpe:2.3:o:juniper:junos:17.4:*:*:*:*:*:*:*\"\n",
        "        }, {\n",
        "          \"vulnerable\" : true,\n",
        "          \"cpe23Uri\" : \"cpe:2.3:o:juniper:junos:17.4:r1:*:*:*:*:*:*\"\n",
        "        } ]\n",
        "      }, {\n",
        "        \"operator\" : \"OR\"\n",
        "      }, {\n",
        "        \"operator\" : \"OR\",\n",
        "        \"cpe_match\" : [ {\n",
        "          \"vulnerable\" : true,\n",
        "          \"cpe23Uri\" : \"cpe:2.3:a:juniper:junos:18.2:*:*:*:*:*:*:*\"\n",
        "        }, {\n",
        "          \"vulnerable\" : true,\n",
        "          \"cpe23Uri\" : \"cpe:2.3:a:juniper:junos:18.2:r1-s3:*:*:*:*:*:*\"\n",
        "        }, {\n",
        "          \"vulnerable\" : true,\n",
        "          \"cpe23Uri\" : \"cpe:2.3:a:juniper:junos:18.2:r1-s4:*:*:*:*:*:*\"\n",
        "        } ]\n",
        "      } ]\n",
        "    },\n",
        "    \"impact\" : {\n",
        "      \"baseMetricV3\" : {\n",
        "        \"cvssV3\" : {\n",
        "          \"version\" : \"3.0\",\n",
        "          \"vectorString\" : \"CVSS:3.0/AV:N/AC:H/PR:N/UI:N/S:U/C:N/I:N/A:H\",\n",
        "          \"attackVector\" : \"NETWORK\",\n",
        "          \"attackComplexity\" : \"HIGH\",\n",
        "          \"privilegesRequired\" : \"NONE\",\n",
        "          \"userInteraction\" : \"NONE\",\n",
        "          \"scope\" : \"UNCHANGED\",\n",
        "          \"confidentialityImpact\" : \"NONE\",\n",
        "          \"integrityImpact\" : \"NONE\",\n",
        "          \"availabilityImpact\" : \"HIGH\",\n",
        "          \"baseScore\" : 5.9,\n",
        "          \"baseSeverity\" : \"MEDIUM\"\n",
        "        },\n",
        "        \"exploitabilityScore\" : 2.2,\n",
        "        \"impactScore\" : 3.6\n",
        "      },\n",
        "      \"baseMetricV2\" : {\n",
        "        \"cvssV2\" : {\n",
        "          \"version\" : \"2.0\",\n",
        "          \"vectorString\" : \"AV:N/AC:M/Au:N/C:N/I:N/A:C\",\n",
        "          \"accessVector\" : \"NETWORK\",\n",
        "          \"accessComplexity\" : \"MEDIUM\",\n",
        "          \"authentication\" : \"NONE\",\n",
        "          \"confidentialityImpact\" : \"NONE\",\n",
        "          \"integrityImpact\" : \"NONE\",\n",
        "          \"availabilityImpact\" : \"COMPLETE\",\n",
        "          \"baseScore\" : 7.1\n",
        "        },\n",
        "        \"severity\" : \"HIGH\",\n",
        "        \"exploitabilityScore\" : 8.6,\n",
        "        \"impactScore\" : 6.9,\n",
        "        \"acInsufInfo\" : false,\n",
        "        \"obtainAllPrivilege\" : false,\n",
        "        \"obtainUserPrivilege\" : false,\n",
        "        \"obtainOtherPrivilege\" : false,\n",
        "        \"userInteractionRequired\" : false\n",
        "      }\n",
        "    },\n",
        "    \"publishedDate\" : \"2019-01-15T21:29Z\",\n",
        "    \"lastModifiedDate\" : \"2020-07-22T18:00Z\"\n",
        "  }\"\"\"\n",
        "  ~~~~"
      ]
    },
    {
      "cell_type": "markdown",
      "metadata": {
        "id": "QAIk0k_yJCbc"
      },
      "source": [
        "Here are the paths to each of the pieces of information we are interested in:\n",
        "\n",
        "+ for the ID `cve : CVE_data_meta : ID`  \n",
        "+ for the CWE class `cve : probemtype : problemtype_data : [description : [value]]`  \n",
        "+ for the description: `cve : description : description_data : [value]`\n",
        "+ for the affected software: `configurations`, but we need to flatten its content\n",
        "+ for the severity score: `impact : baseMetricV3 : cvssV3 : baseScore`\n",
        "+ for the base severity : `impact : baseMetricV3 : cvssV3 : baseSeverity`\n",
        "\n",
        "`Description` is a definition of the vulnerability. It will be treated as datatype = string in the ontology.\n",
        "\n",
        "`baseSeverity` can be one of {NONE, LOW, MEDIUM, HIGH, CRITICAL} (see below). We are going to convert this into a sclae from 0 to 4  \n",
        "\n",
        "We are going to store each piece of information in one variable, to assemble an object later.\n",
        "\n",
        "The **components** present several problems. There are many components listed in each CVE entry. The nested structure of the _configurations_ field is also problematic, since it varies from entry to entry. There must be a way to flatten the field and find all the `cpe23Uri` elements there (see below)."
      ]
    },
    {
      "cell_type": "markdown",
      "metadata": {
        "id": "H4gfqW45JCbe"
      },
      "source": [
        "**SEVERITY**\n",
        "\n",
        "A CVSS score can be between 0.0 and 10.0, with 10.0 being the most severe. To help convey CVSS scores to less technical stakeholders, FIRST maps CVSS scores to the following qualitative ratings:\n",
        "\n",
        "+ 0.0 = None\n",
        "+ 0.1-3.9 = Low\n",
        "+ 4.0-6.9 = Medium\n",
        "+ 7.0-8.9 = High\n",
        "+ 9.0 - 10.0 = Critical\n",
        "\n",
        "To store this as a rank, we will convert the levels into a scale of decimals from 0 (lowest) to 4( highest)."
      ]
    },
    {
      "cell_type": "markdown",
      "metadata": {
        "id": "get4ZhqcJCbe"
      },
      "source": [
        "#### Flattening the configuration item\n",
        "\n",
        "We need to extract all the URIs and split them into two sets: vulnerable and non-vulnerable. \n",
        "\n",
        "First, we turn the dict into a flat string. Then we use regular expression matching to extract all the URIs. We need to match every sub-string of the form `\"{'vulnerable': True, 'cpe23Uri': 'cpe:2.3:o:juniper:junos:16.1:*:*:*:*:*:*:*'}\"`\n",
        "\n",
        "We want the pattern to be: \n",
        "\n",
        "`(\\{'vulnerable': True, 'cpe23Uri': 'cpe:2.3:)(.*?)('\\})`\n",
        "\n",
        "The pattern will match a sub-string and split it into three groups. We are interested in the second one, which tells us the class (a, o, or h), vendor, product, and other attributes. We use a non-greedy suffix ? to make sure we capture only the smallest sybstring (otherwise the pattern will scan to the end of the configurations item).\n",
        "\n",
        "Now we need to capture the items we are interested in. We use findall.\n",
        "\n",
        "`re.findall(pattern, string, flags=0)`: Return all non-overlapping matches of pattern in string, as a list of strings. The string is scanned left-to-right, and matches are returned in the order found. If one or more groups are present in the pattern, return a list of groups; this will be a list of tuples if the pattern has more than one group. Empty matches are included in the result.\n",
        "\n",
        "Because we are using grouping in the pattern, each returned item is a tuple. We want to extract the second element, and add it to a set to reduce duplicates."
      ]
    },
    {
      "cell_type": "code",
      "metadata": {
        "colab": {
          "base_uri": "https://localhost:8080/"
        },
        "id": "L_QYz1hp5970",
        "outputId": "cc947de1-f8a1-48c4-8acd-eb67c217d596"
      },
      "source": [
        "!pip install owlready2\n"
      ],
      "execution_count": 156,
      "outputs": [
        {
          "output_type": "stream",
          "text": [
            "Requirement already satisfied: Cython in /usr/local/lib/python3.7/dist-packages (0.29.22)\n",
            "Requirement already satisfied: owlready2 in /usr/local/lib/python3.7/dist-packages (0.27)\n"
          ],
          "name": "stdout"
        }
      ]
    },
    {
      "cell_type": "code",
      "metadata": {
        "id": "eG1-JzsEJCbe"
      },
      "source": [
        "# # The argument of this function is an entry in a cve dict. \n",
        "# # It should iterate over the dict, and the output should be added to a new dict.\n",
        "\n",
        "# def parse_cve(cve):    \n",
        "#     cve_id = cve[\"cve\"][\"CVE_data_meta\"][\"ID\"] # Get the ID\n",
        "#     cve_class = cve[\"cve\"][\"problemtype\"][\"problemtype_data\"][0][\"description\"][0][\"value\"] # Get the class\n",
        "#     cve_description = cve[\"cve\"][\"description\"][\"description_data\"][0][\"value\"] # Get the description\n",
        "#     cve_score = cve[\"impact\"][\"baseMetricV3\"][\"cvssV3\"][\"baseScore\"] #Get the severity score, numeric\n",
        "#     #Now we gat the base score and convert it to a scale\n",
        "#     baseSeverity = cve[\"impact\"][\"baseMetricV3\"][\"cvssV3\"][\"baseSeverity\"]#Get the severity score, qualitative\n",
        "#     if baseSeverity == \"NONE\": \n",
        "#         cve_severity = 0 \n",
        "#     elif baseSeverity == \"LOW\": \n",
        "#         cve_severity = 1\n",
        "#     elif baseSeverity == \"MEDIUM\": \n",
        "#         cve_severity = 2\n",
        "#     elif baseSeverity == \"HIGH\": \n",
        "#         cve_severity = 3\n",
        "#     elif baseSeverity == \"CRITICAL\": \n",
        "#         cve_severity = 4\n",
        "#     # Flatten the configurations dict into a string\n",
        "#     conf_str = str(cve['configurations'])\n",
        "#     # Compile the regular expression pattern for matching. This may need to be done only once.\n",
        "#     cpe_item = re.compile(\"(\\{'vulnerable': True, 'cpe23Uri': 'cpe:2.3:)(.*?)('\\})\")\n",
        "#     # Extract the matches\n",
        "#     cpe_list = cpe_item.findall(conf_str)\n",
        "#     # Extract the item of interest and add it to a set of affected configurations\n",
        "#     cpe_set = set(list())\n",
        "#     for item in cpe_list:\n",
        "#         cpe_set.add(item[1])\n",
        "#     return [cve_id, cve_class, cve_description, cve_score, cve_severity, cpe_set]"
      ],
      "execution_count": 157,
      "outputs": []
    },
    {
      "cell_type": "markdown",
      "metadata": {
        "id": "an4exFsLJCbf"
      },
      "source": [
        "NOTE: The CVE entries also include configurations that are **not vulnerable** with respect to a particular vulnerability. They are identified by the value `\"vulnerable\" : false`. A TO DO task is to exploit that information"
      ]
    },
    {
      "cell_type": "code",
      "metadata": {
        "id": "JlAICm26JCbf"
      },
      "source": [
        "# The argument of this function is an entry in a cve dict. \n",
        "# It should iterate over the dict, and the output should be added to a new dict.\n",
        "\n",
        "def parse_cve(cve):    \n",
        "    cve_id = cve[\"cve\"][\"CVE_data_meta\"][\"ID\"] # Get the ID\n",
        "    cve_class = cve[\"cve\"][\"problemtype\"][\"problemtype_data\"][0][\"description\"][0][\"value\"] # Get the class\n",
        "    cve_description = cve[\"cve\"][\"description\"][\"description_data\"][0][\"value\"] # Get the description\n",
        "    cve_score = cve[\"impact\"][\"baseMetricV3\"][\"cvssV3\"][\"baseScore\"] #Get the severity score, numeric\n",
        "    #Now we gat the base score and convert it to a scale\n",
        "    baseSeverity = cve[\"impact\"][\"baseMetricV3\"][\"cvssV3\"][\"baseSeverity\"]#Get the severity score, qualitative\n",
        "    if baseSeverity == \"NONE\": \n",
        "        cve_severity = 0 \n",
        "    elif baseSeverity == \"LOW\": \n",
        "        cve_severity = 1\n",
        "    elif baseSeverity == \"MEDIUM\": \n",
        "        cve_severity = 2\n",
        "    elif baseSeverity == \"HIGH\": \n",
        "        cve_severity = 3\n",
        "    elif baseSeverity == \"CRITICAL\": \n",
        "        cve_severity = 4\n",
        "    # Flatten the configurations dict into a string\n",
        "    conf_str = str(cve['configurations'])\n",
        "    # Compile the regular expression pattern for matching. This may need to be done only once.\n",
        "    cpe_item = re.compile(\"(\\{'vulnerable': True, 'cpe23Uri': 'cpe:2.3:)(.*?)('\\})\")\n",
        "    # Extract the matches\n",
        "    cpe_list = cpe_item.findall(conf_str)\n",
        "    # Extract the item of interest and add it to a set of affected configurations\n",
        "    cpe_set = set(list())\n",
        "    for item in cpe_list:\n",
        "        cpe_set.add(item[1])\n",
        "        \n",
        "# Expansion of the funciton with the ability to identify the \"complement\" set of\n",
        "# CPE configurations that are NOT vulnerable. We can use the same flattened configurations\n",
        "# string as before.\n",
        "\n",
        "    # Compile the regular expression pattern for matching. This may need to be done only once.\n",
        "    cpe_comp_item = re.compile(\"(\\{'vulnerable': False, 'cpe23Uri': 'cpe:2.3:)(.*?)('\\})\")\n",
        "    # Extract the matches\n",
        "    cpe_comp_list = cpe_comp_item.findall(conf_str)\n",
        "    # Extract the item of interest and add it to a set of affected configurations\n",
        "    cpe_comp_set = set(list())\n",
        "    for item in cpe_comp_list:\n",
        "        cpe_comp_set.add(item[1])\n",
        "\n",
        "    return [cve_id, cve_class, cve_description, cve_score, cve_severity, cpe_set, cpe_comp_set]"
      ],
      "execution_count": 158,
      "outputs": []
    },
    {
      "cell_type": "markdown",
      "metadata": {
        "id": "UB-NlaUsJCbf"
      },
      "source": [
        "#### Writing to an OWL-XML file\n",
        "We now need to turn each dict item into a series of xml elements for the ontology.\n",
        "\n",
        "We are working on a backbone of classes and properties, so we need to render the individuals and relations.\n",
        "\n",
        "~~~~\n",
        "<CWE79 rdf:about=\"#CVE20156099\">\n",
        "\t<rdf:type rdf:resource=\"http://www.w3.org/2002/07/owl#NamedIndividual\"/>\n",
        "</CWE79>\n",
        "~~~~\n",
        "We can get a CVE ID from the keys in a dict entry: \n",
        "\n",
        "`cve_id = list(cve_dict.keys())[0]`\n",
        "\n",
        "This is how we format a string to then write down an instance CVE:\n",
        "\n",
        "`vuln = \"\"\"<%(class)s rdf:about=\"#%(id)s\"> \\\n",
        "\\n\\t<rdf:type rdf:resource=\"http://www.w3.org/2002/07/owl#NamedIndividual\"/> \\\n",
        "\\n\\t<has_severity_level rdf:datatype=\"http://www.w3.org/2001/XMLSchema#decimal\"> \\\n",
        "%(severity_level)d</has_severity_level> \\\n",
        "\\n\\t<has_description rdf:datatype=\"http://www.w3.org/2001/XMLSchema#string\"> \\\n",
        "%(description)s</has_description> \\\n",
        "\\n</%(class)s>\"\"\" \\\n",
        "% {\"class\": parsed_cve[1].replace('-', \"\") , \\\n",
        "   \"id\": parsed_cve[0].replace('-', '') , \\\n",
        "   \"severity_level\": parsed_cve[4], \\\n",
        "   \"description\": parsed_cve[2]}`\n",
        "          \n",
        "Components require an extra step. We have to parse the URI string into a class and an identifier:\n",
        "\n",
        "`re.match(r'(.:)([^:]*):([^:]*):([^:]*):([^:]*)', cve_component).group(#)`\n",
        "\n",
        "The groups are:\n",
        "+ 1: class (a, o, h)\n",
        "+ 2: vendor\n",
        "+ 3: product\n",
        "+ 4: version\n",
        "+ 5: release\n",
        "\n",
        "The class is the first gorup, the identifier is the rest.\n",
        "\n",
        "~~~~\n",
        "<Application rdf:about=\"#ASPNET\">\n",
        "  \t<rdf:type rdf:resource=\"http://www.w3.org/2002/07/owl#NamedIndividual\"/>\n",
        "\t<has_vulnerability rdf:resource=\"#CVE20156099\"/>\n",
        "</Application>\n",
        "~~~~\n",
        "\n",
        "We have to cycle over all the configurations in the set, each of which is structured as a URI string. We turn the set into a list, and iterate (or pick an arbitrary one to work with it)\n",
        "\n",
        "comp_uri = list(cve_dict[cve_id][3])[5]\n",
        "\n",
        "~~~~\n",
        "cve_id = cve_dict.keys[0] #iterate over\n",
        "comp_uri = list(cve_dict[cve_id][3])[5] #iterate over\n",
        "comp_class = re.match(r'(.:)([^:]*):([^:]*):([^:]*):([^:]*)', comp_uri).group(1)\n",
        "comp_vendor = re.match(r'(.:)([^:]*):([^:]*):([^:]*):([^:]*)', comp_uri).group(2)\n",
        "comp_product = re.match(r'(.:)([^:]*):([^:]*):([^:]*):([^:]*)', comp_uri).group(3)\n",
        "comp_version = re.match(r'(.:)([^:]*):([^:]*):([^:]*):([^:]*)', comp_uri).group(4)\n",
        "comp_release = re.match(r'(.:)([^:]*):([^:]*):([^:]*):([^:]*)', comp_uri).group(5)\n",
        "comp_id = comp_vendor + ':' + comp_product + ':' + comp_version + ':' + comp_release\n",
        "\n",
        "if comp_class == 'a:':\n",
        "    comp = \"\"\"<Application rdf:about=\"#%(c_id)s\">\\n\\t\n",
        "              <rdf:type rdf:resource=\"http://www.w3.org/2002/07/owl#NamedIndividual\"/>\\n\\t\n",
        "\t          <has_vulnerability rdf:resource=\"#(v_id)\"/>\\n\n",
        "              </Application>\"\"\" % {\"c_id\" : comp_id, \"v_id\" : vuln_id}\n",
        "~~~~\n",
        "\n",
        "One problem is that the IRI's have a \"-\" character in their name. This should be removed using the string `.replace(old, new)` method. Another problem: periods to designate version or release numbers mess up the entity identifiers in OWLREADY, must be removed or replaced."
      ]
    },
    {
      "cell_type": "code",
      "metadata": {
        "id": "J5K_ZV9KJCbf"
      },
      "source": [
        "import json"
      ],
      "execution_count": 159,
      "outputs": []
    },
    {
      "cell_type": "code",
      "metadata": {
        "id": "vgXYdIH_JCbf"
      },
      "source": [
        "import re"
      ],
      "execution_count": 160,
      "outputs": []
    },
    {
      "cell_type": "code",
      "metadata": {
        "colab": {
          "base_uri": "https://localhost:8080/"
        },
        "id": "pRqC50Bx4H_S",
        "outputId": "86ab1166-715a-4632-a0ab-3c16532e29a8"
      },
      "source": [
        "# mount google drive\n",
        "from google.colab import drive\n",
        "\n",
        "drive.mount('/content/gdrive')"
      ],
      "execution_count": 161,
      "outputs": [
        {
          "output_type": "stream",
          "text": [
            "Drive already mounted at /content/gdrive; to attempt to forcibly remount, call drive.mount(\"/content/gdrive\", force_remount=True).\n"
          ],
          "name": "stdout"
        }
      ]
    },
    {
      "cell_type": "code",
      "metadata": {
        "id": "p8qHQZzoJCbg"
      },
      "source": [
        "# Load the cve feed json file. It loads it as a string\n",
        "json_file = '/content/gdrive/My Drive/tronto/nvdcve-1.1-2019.json'\n",
        "\n",
        "with open(json_file, 'r') as json_in:\n",
        "    json_string = json_in.read()\n",
        "\n",
        "# This is necessary to properly load a json feed as a python dict\n",
        "json_feed = json.loads(json_string)"
      ],
      "execution_count": 162,
      "outputs": []
    },
    {
      "cell_type": "code",
      "metadata": {
        "id": "fGhs3JH_aNcm"
      },
      "source": [
        "# add backbone to the beginning of document\n",
        "with open('/content/gdrive/My Drive/tronto/backbone_begin.txt', 'r') as back_file:\n",
        "  backbone_begin = back_file.read()\n",
        "\n",
        "\n",
        "destination_file = '/content/gdrive/My Drive/tronto/tronto_instances.txt'\n",
        "with open(destination_file, 'a') as outfile:\n",
        "  outfile.write(backbone_begin)"
      ],
      "execution_count": 163,
      "outputs": []
    },
    {
      "cell_type": "code",
      "metadata": {
        "id": "FNZZcp8NJCbg"
      },
      "source": [
        "#As we iterate over the json feed, extracting the information, \n",
        "#we format it as a string and write to file directly (no need to store \n",
        "#information in a dict). The json feed is a dict. The `CVE_Items` key \n",
        "# has as its value a **list** of CVEs.\n",
        "\n",
        "# Since we are going to write to a file, it is a good idea to specify \n",
        "#the file where the information is going to be stored first (uncomment\n",
        "#one for the desired destination):\n",
        "\n",
        "#destination_file = '/Users/raranovi/Pywk/ontologies/tronto_instances.txt'\n",
        "\n",
        "error_list = []\n",
        "\n",
        "# Now we start the processing of the information from the json feed\n",
        "\n",
        "# To iterate over the members of the full list uncomment line below: \n",
        "#for id_num, it in enumerate(json_feed[\"CVE_Items\"]):  \n",
        "\n",
        "# To keep the iteration short as a trial, use the option below:\n",
        "# Remember that the json feed is a dict. The \n",
        "# CVE_Items key has as its value a list of CVEs. Each individual CVE \n",
        "# is in turn a dict. NOTE: comment the line below if you want to run the\n",
        "# whole JSON feed.\n",
        "\n",
        "for id_num, it in enumerate(json_feed[\"CVE_Items\"][:]): \n",
        "    \n",
        "#Each member or item is a CVE entry, that needs to be parsed using the \n",
        "#`parse_cve()` function\n",
        "    \n",
        "    try:\n",
        "        parsed_cve = parse_cve(it)   #parse the item\n",
        "\n",
        "# The output of parse_cve is a list: [cve_id, cve_class, cve_description, \n",
        "# cve_score, cve_severity, cpe_set] We use the items in this list to format strings \n",
        "# for writing to the OWL document. First format a string for the \n",
        "# vulnerability. The fields of interest are the CVE ID and the CWE class.\n",
        "# We are also including a datatype property for the (qualitative) severity \n",
        "# score as severity_level, taken from baseSeverity, and a field for the\n",
        "# description of the vulnerability. The last two are datatypes.\n",
        "\n",
        "        description = (parsed_cve[2]).replace('<','&lt;').replace('>','&gt;').replace(' & ',' &amp; ').replace('&','&amp;').replace('\\\"','&quot;').replace('\\'','&apos;')\n",
        "        description = re.sub(r\"&\", \"&amp;\", description)\n",
        "\n",
        "        vuln = \"\"\"<%(class)s rdf:about=\"#%(id)s\"> \\\n",
        "\\n\\t<rdf:type rdf:resource=\"http://www.w3.org/2002/07/owl#NamedIndividual\"/> \\\n",
        "\\n\\t<has_severity_level rdf:datatype=\"http://www.w3.org/2001/XMLSchema#decimal\">%(severity_level)d</has_severity_level> \\\n",
        "\\n\\t<has_description rdf:datatype=\"http://www.w3.org/2001/XMLSchema#string\">%(description)s</has_description> \\\n",
        "\\n</%(class)s>\\n\"\"\" \\\n",
        "% {\"class\": parsed_cve[1].replace('-', \"\") , \\\n",
        "   \"id\": parsed_cve[0].replace('-', '') , \\\n",
        "   \"severity_level\": parsed_cve[4], \\\n",
        "   \"description\": description}\n",
        "\n",
        "# NOTE: original formulation included a field for severity score: \n",
        "#<has_severity rdf:datatype=\"http://www.w3.org/2001/XMLSchema#float\">%(severity_score).f1</has_severity>\n",
        "\n",
        "# Once the vulnerability string is formatted using the XML/OWL standard \n",
        "# and stored as the value of the vuln variable, we write it to a text file.\n",
        "\n",
        "        with open(destination_file, 'a') as outfile:\n",
        "            outfile.write(vuln)\n",
        "\n",
        "# Next format a string for the configuration(s), including the relation \n",
        "# to a vulnerability. The parse_cve function stores all the configurations\n",
        "# in a set. We iterate over the members of the set to extract the fields \n",
        "# we are interested in. We join the fields vendor/product/version with\n",
        "# semicolons to avoid naming conflicts with Owlready (colons designate \n",
        "# prefixes in OWL)\n",
        "\n",
        "        for comp_uri in list(parsed_cve[5]):\n",
        "            comp_class = re.match(r'(.:)([^:]*):([^:]*):([^:]*):([^:]*)', comp_uri).group(1)\n",
        "            comp_vendor = re.match(r'(.:)([^:]*):([^:]*):([^:]*):([^:]*)', comp_uri).group(2)\n",
        "            comp_product = re.match(r'(.:)([^:]*):([^:]*):([^:]*):([^:]*)', comp_uri).group(3)\n",
        "            comp_version = re.match(r'(.:)([^:]*):([^:]*):([^:]*):([^:]*)', comp_uri).group(4)\n",
        "            comp_release = re.match(r'(.:)([^:]*):([^:]*):([^:]*):([^:]*)', comp_uri).group(5)\n",
        "\n",
        "            comp_vendor = (comp_vendor).replace('<','&lt;').replace('>','&gt;').replace('\\\"','&quot;').replace('\\'','&apos;').replace('\\\\','')\n",
        "            comp_vendor = re.sub(r\"&\", \"&amp;\", comp_vendor)\n",
        "\n",
        "            comp_product = (comp_product).replace('<','&lt;').replace('>','&gt;').replace('\\\"','&quot;').replace('\\'','&apos;').replace('\\\\','')\n",
        "            comp_product = re.sub(r\"&\", \"&amp;\", comp_product)\n",
        "\n",
        "            comp_id = comp_vendor + ';' + comp_product + ';' + comp_version + ';' + comp_release #comp_vendor, comp_product -> remove special, same for description\n",
        "\n",
        "# Replace problematic characters in CPE identifiers (in the end,\n",
        "# not needed, because only alphanumeric and _ are allowed)\n",
        "\n",
        "#        comp_id = comp_id.replace('.', '¢')\n",
        "#        comp_id = comp_id.replace('-', '–')\n",
        "#        comp_id = comp_id.replace('*', '¥')\n",
        "        \n",
        "# Next we assemble the strings, on for each component. The class field \n",
        "# determines the class of component (o, a, or h) the configuration is a daughter of.\n",
        "\n",
        "\n",
        "            if comp_class == 'o:': \n",
        "                comp = \"\"\"<Operating_system rdf:about=\"#%(c_id)s\">\\n\\t<rdf:type \\\n",
        "rdf:resource=\"http://www.w3.org/2002/07/owl#NamedIndividual\"/> \\\n",
        "\\n\\t<has_vulnerability rdf:resource=\"#%(v_id)s\"/> \\\n",
        "\\n</Operating_system>\\n\"\"\" \\\n",
        "% {\"c_id\" : comp_id, \"v_id\" : parsed_cve[0].replace('-', \"\")}\n",
        "            elif comp_class == 'a:': \n",
        "                comp = \"\"\"<Application rdf:about=\"#%(c_id)s\">\\n\\t<rdf:type \\\n",
        "rdf:resource=\"http://www.w3.org/2002/07/owl#NamedIndividual\"/> \\\n",
        "\\n\\t<has_vulnerability rdf:resource=\"#%(v_id)s\"/> \\\n",
        "\\n</Application>\\n\"\"\" \\\n",
        "% {\"c_id\" : comp_id, \"v_id\" : parsed_cve[0].replace('-', \"\")}\n",
        "            elif comp_class == 'h:': \n",
        "                comp = \"\"\"<Hardware rdf:about=\"#%(c_id)s\">\\n\\t<rdf:type rdf:resource=\"http://www.w3.org/2002/07/owl#NamedIndividual\"/> \\n\\t<has_vulnerability rdf:resource=\"#%(v_id)s\"/> \\n</Hardware>\\n\"\"\" \\\n",
        "% {\"c_id\" : comp_id, \"v_id\" : parsed_cve[0].replace('-', \"\")}\n",
        "\n",
        "#  This will write each of the components with the vulnerability to a file\n",
        "\n",
        "            with open(destination_file, 'a') as outfile:\n",
        "                outfile.write(comp)\n",
        "    \n",
        "    except IndexError:\n",
        "        error_list.append('IndexError: list index out of range in CVE %d' % (id_num) + \" = \" + str(it))\n",
        "        pass\n",
        "    except KeyError:\n",
        "        error_list.append(\"KeyError: 'baseMetricV3' in CVE %d\" % (id_num))\n",
        "        pass\n",
        "            \n",
        "# NOTE: I am getting an \"IndexError: list index out of range\" error for some CVEs \n",
        "# when I try to get the class. It may be that these are classified as \"other\".\n",
        "# I have to write a try block to catch the exception.\n",
        "#\n",
        "# I also get a \"KeyError: 'baseMetricV3'\" exception, need to catch it too."
      ],
      "execution_count": 164,
      "outputs": []
    },
    {
      "cell_type": "code",
      "metadata": {
        "colab": {
          "base_uri": "https://localhost:8080/"
        },
        "id": "SB38tL02JCbg",
        "outputId": "5991379d-7fc0-4f40-f8fd-41638824fc8b"
      },
      "source": [
        "len(error_list)"
      ],
      "execution_count": 165,
      "outputs": [
        {
          "output_type": "execute_result",
          "data": {
            "text/plain": [
              "992"
            ]
          },
          "metadata": {
            "tags": []
          },
          "execution_count": 165
        }
      ]
    },
    {
      "cell_type": "code",
      "metadata": {
        "colab": {
          "base_uri": "https://localhost:8080/"
        },
        "id": "77HB1dq9a9zy",
        "outputId": "32b8cd85-4e1d-4692-b6d6-865759d53ef3"
      },
      "source": [
        "error_list[:5]"
      ],
      "execution_count": 166,
      "outputs": [
        {
          "output_type": "execute_result",
          "data": {
            "text/plain": [
              "[\"IndexError: list index out of range in CVE 33 = {'cve': {'data_type': 'CVE', 'data_format': 'MITRE', 'data_version': '4.0', 'CVE_data_meta': {'ID': 'CVE-2019-0034', 'ASSIGNER': 'cve@mitre.org'}, 'problemtype': {'problemtype_data': [{'description': []}]}, 'references': {'reference_data': []}, 'description': {'description_data': [{'lang': 'en', 'value': '** REJECT ** DO NOT USE THIS CANDIDATE NUMBER. Reason: This candidate was withdrawn by its CNA. Further investigation showed that it was not a vulnerability. Notes: Google gRPC credentials were found which existed for specific internal product testing purposes which are not used as part of production releases of Junos OS. Hence this is not a vulnerability and this CVE ID assignment has been withdrawn.'}]}}, 'configurations': {'CVE_data_version': '4.0', 'nodes': []}, 'impact': {}, 'publishedDate': '2019-04-10T20:29Z', 'lastModifiedDate': '2019-04-15T12:31Z'}\",\n",
              " \"IndexError: list index out of range in CVE 122 = {'cve': {'data_type': 'CVE', 'data_format': 'MITRE', 'data_version': '4.0', 'CVE_data_meta': {'ID': 'CVE-2019-0141', 'ASSIGNER': 'cve@mitre.org'}, 'problemtype': {'problemtype_data': [{'description': []}]}, 'references': {'reference_data': []}, 'description': {'description_data': [{'lang': 'en', 'value': '** REJECT ** DO NOT USE THIS CANDIDATE NUMBER. ConsultIDs: none. Reason: This candidate was withdrawn by its CNA. Further investigation showed that it was not a security issue. Notes: none.'}]}}, 'configurations': {'CVE_data_version': '4.0', 'nodes': []}, 'impact': {}, 'publishedDate': '2020-01-25T19:15Z', 'lastModifiedDate': '2020-01-25T19:15Z'}\",\n",
              " \"IndexError: list index out of range in CVE 176 = {'cve': {'data_type': 'CVE', 'data_format': 'MITRE', 'data_version': '4.0', 'CVE_data_meta': {'ID': 'CVE-2019-0198', 'ASSIGNER': 'cve@mitre.org'}, 'problemtype': {'problemtype_data': [{'description': []}]}, 'references': {'reference_data': []}, 'description': {'description_data': [{'lang': 'en', 'value': '** REJECT ** DO NOT USE THIS CANDIDATE NUMBER. ConsultIDs: none. Reason: The CNA or individual who requested this candidate did not associate it with any vulnerability during 2019. Notes: none.'}]}}, 'configurations': {'CVE_data_version': '4.0', 'nodes': []}, 'impact': {}, 'publishedDate': '2019-03-21T18:15Z', 'lastModifiedDate': '2019-03-21T18:15Z'}\",\n",
              " \"IndexError: list index out of range in CVE 184 = {'cve': {'data_type': 'CVE', 'data_format': 'MITRE', 'data_version': '4.0', 'CVE_data_meta': {'ID': 'CVE-2019-0206', 'ASSIGNER': 'cve@mitre.org'}, 'problemtype': {'problemtype_data': [{'description': []}]}, 'references': {'reference_data': []}, 'description': {'description_data': [{'lang': 'en', 'value': '** REJECT **  DO NOT USE THIS CANDIDATE NUMBER. ConsultIDs: none. Reason: This candidate was in a CNA pool that was not assigned to any issues during 2019. Notes: none.'}]}}, 'configurations': {'CVE_data_version': '4.0', 'nodes': []}, 'impact': {}, 'publishedDate': '2019-03-14T22:15Z', 'lastModifiedDate': '2019-03-14T22:15Z'}\",\n",
              " \"IndexError: list index out of range in CVE 186 = {'cve': {'data_type': 'CVE', 'data_format': 'MITRE', 'data_version': '4.0', 'CVE_data_meta': {'ID': 'CVE-2019-0208', 'ASSIGNER': 'cve@mitre.org'}, 'problemtype': {'problemtype_data': [{'description': []}]}, 'references': {'reference_data': []}, 'description': {'description_data': [{'lang': 'en', 'value': '** REJECT ** DO NOT USE THIS CANDIDATE NUMBER. ConsultIDs: none. Reason: This candidate was in a CNA pool that was not assigned to any issues during 2019. Notes: none.'}]}}, 'configurations': {'CVE_data_version': '4.0', 'nodes': []}, 'impact': {}, 'publishedDate': '2019-04-10T19:15Z', 'lastModifiedDate': '2019-04-10T19:15Z'}\"]"
            ]
          },
          "metadata": {
            "tags": []
          },
          "execution_count": 166
        }
      ]
    },
    {
      "cell_type": "code",
      "metadata": {
        "id": "Pk0CYVs5a9Kt"
      },
      "source": [
        "# write the backbone tag to end of destination file\n",
        "with open(destination_file, 'a') as outfile:\n",
        "  outfile.write(\"</rdf:RDF>\")\n",
        "\n",
        "# now, all that's left is to rename the file to -.owl"
      ],
      "execution_count": 167,
      "outputs": []
    },
    {
      "cell_type": "markdown",
      "metadata": {
        "id": "eSYJLz9bJCbg"
      },
      "source": [
        "Once we have a list of owl/xml formatted instances, it can be appended to the taxonomic backbone to get a full-fledged ontology."
      ]
    },
    {
      "cell_type": "markdown",
      "metadata": {
        "id": "qk_adPRkJCbg"
      },
      "source": [
        "## 2. Loading and exploring an ontology\n",
        "\n",
        "The resulting ontology can be loaded onto Owlready (a python module to handle ontologies) with the `get_ontology().load()` command. Once loaded, it can be searched for its classes, properties, and individuals. To do so, use the `.classes()`, `.properties()`, and `.individuals()` methods of the ontology. These methods return a generator, which cant be displayed or printed by itself. To see the output, make it the argument of a `list()` function, or iterate over the generator itself using a `print()` command.\n",
        "\n",
        "The previous methods help us find the entities and relations in the ontology. Now we need to find out how they are related, i.e. the taxonomy and other relations. \n",
        "\n",
        "+ The .is_a method of any Entity (class, property, individual) reveals the taxonomy going upwards. \n",
        "+ The .instances and .subclasses methods show the taxonomy going downwards\n",
        "+ The .ancestors() and .descendants() methods have similar functionality\n",
        "+ The .get_properties() method returns the properties associated with an individual or instance, the .get_class_properties() method does the same for a class.\n",
        "+ The .get_relations() method returns a list of subject/object pairs for a given property.\n",
        "+ A property can be used as a method of an individual to find the range in the relation\n",
        "+ Properties have .domain and .range methods, to query their arguments\n",
        "\n",
        "Below I run examples of these query methods.\n",
        "\n",
        "Another way to query or inspect an ontology is to run **searches**, using the .search() method of the ontology. A search needs a keyword and a value (the value can have wildcards). E.g.:\n",
        "\n",
        "`onto.search(type = onto.Vulnerability)`"
      ]
    },
    {
      "cell_type": "markdown",
      "metadata": {
        "id": "MyuyONjQJCbg"
      },
      "source": [
        "The first steps in creating an ontology are to import Owlready and make a path to a local directory (where the repository for ontologies is."
      ]
    },
    {
      "cell_type": "code",
      "metadata": {
        "colab": {
          "base_uri": "https://localhost:8080/"
        },
        "id": "oNLRTByDibXM",
        "outputId": "ee563d87-de04-4ac6-cdfe-b282ef8f883d"
      },
      "source": [
        "# look at specific lines to find xml parsing errors\n",
        "with open(\"/content/gdrive/My Drive/tronto/tronto_f.owl\") as fp:\n",
        "    for i, line in enumerate(fp):\n",
        "        if i == 143903:\n",
        "          print(line)\n",
        "          break"
      ],
      "execution_count": 173,
      "outputs": [
        {
          "output_type": "stream",
          "text": [
            "</Operating_system>\n",
            "\n"
          ],
          "name": "stdout"
        }
      ]
    },
    {
      "cell_type": "code",
      "metadata": {
        "scrolled": true,
        "id": "MVtMPIK1JCbg"
      },
      "source": [
        "from owlready2 import *\n",
        "\n",
        "#Path to local repository\n",
        "onto_path.append('/content/gdrive/My Drive/tronto/')"
      ],
      "execution_count": 174,
      "outputs": []
    },
    {
      "cell_type": "code",
      "metadata": {
        "id": "6g8nRTc9JCbh"
      },
      "source": [
        "# Specify which ontology we want to load, by IRI\n",
        "currentOnto = \"http://tronto_f.owl\""
      ],
      "execution_count": 175,
      "outputs": []
    },
    {
      "cell_type": "code",
      "metadata": {
        "scrolled": true,
        "id": "ttwL6zZ9JCbi"
      },
      "source": [
        "#load ontology from owl document using IRI\n",
        "onto = get_ontology(currentOnto).load()"
      ],
      "execution_count": 176,
      "outputs": []
    },
    {
      "cell_type": "markdown",
      "metadata": {
        "id": "hmQ6ASpSJCbi"
      },
      "source": [
        "NOTE: There were some errors in the XML/OWL file, in the designators for the configurations. `//\"` for \"inch\" created errors because the character was interpreted as the end of a string. `//&` also created errors, had to be replaced by \"and\"."
      ]
    },
    {
      "cell_type": "code",
      "metadata": {
        "id": "sg1_PNvaJCbi"
      },
      "source": [
        "# Start to explore the ontology\n",
        "print(onto.base_iri)"
      ],
      "execution_count": null,
      "outputs": []
    },
    {
      "cell_type": "code",
      "metadata": {
        "id": "HsV-L8z1JCbj"
      },
      "source": [
        "list(onto.classes())"
      ],
      "execution_count": null,
      "outputs": []
    },
    {
      "cell_type": "code",
      "metadata": {
        "id": "dBap5hHnJCbj"
      },
      "source": [
        "list(onto.properties())"
      ],
      "execution_count": null,
      "outputs": []
    },
    {
      "cell_type": "code",
      "metadata": {
        "id": "KZM7MC5CJCbj"
      },
      "source": [
        "onto.CWE74.is_a"
      ],
      "execution_count": null,
      "outputs": []
    },
    {
      "cell_type": "code",
      "metadata": {
        "id": "0dXv1docJCbj"
      },
      "source": [
        "onto.CWE74.descendants()"
      ],
      "execution_count": null,
      "outputs": []
    },
    {
      "cell_type": "code",
      "metadata": {
        "id": "Y24vaXpXJCbj"
      },
      "source": [
        "onto.Configuration.ancestors()"
      ],
      "execution_count": null,
      "outputs": []
    },
    {
      "cell_type": "code",
      "metadata": {
        "id": "tDLudyodJCbj"
      },
      "source": [
        "# List the instances. Careful: very long!\n",
        "list(onto.individuals())"
      ],
      "execution_count": null,
      "outputs": []
    },
    {
      "cell_type": "markdown",
      "metadata": {
        "id": "9J94aHfHJCbk"
      },
      "source": [
        "Most of the identifiers for the configuration instances have illegal python variable characters in them. Before querying them, we need to assign them a legally named identifier, quoting the instance by its IRI using the IRIS pseudo-dictionary."
      ]
    },
    {
      "cell_type": "code",
      "metadata": {
        "id": "UxISt6QdJCbk"
      },
      "source": [
        "# Assign individual to variable through IRIS name\n",
        "junos_17_2 = IRIS['http://tronto_f.owl#juniper;junos;17.2;*']"
      ],
      "execution_count": 177,
      "outputs": []
    },
    {
      "cell_type": "code",
      "metadata": {
        "id": "kZLQkDymJCbk",
        "colab": {
          "base_uri": "https://localhost:8080/"
        },
        "outputId": "d2994317-477a-41f1-e170-ac67a3cc08c2"
      },
      "source": [
        "junos_17_2.is_a"
      ],
      "execution_count": 178,
      "outputs": [
        {
          "output_type": "execute_result",
          "data": {
            "text/plain": [
              "[tronto_f.Operating_system]"
            ]
          },
          "metadata": {
            "tags": []
          },
          "execution_count": 178
        }
      ]
    },
    {
      "cell_type": "code",
      "metadata": {
        "id": "nlXGlrriJCbk"
      },
      "source": [
        "onto.CVE20190001.is_a"
      ],
      "execution_count": null,
      "outputs": []
    },
    {
      "cell_type": "code",
      "metadata": {
        "id": "dgFH2aLjJCbk"
      },
      "source": [
        "print(onto.CVE20190001.has_description[0])"
      ],
      "execution_count": null,
      "outputs": []
    },
    {
      "cell_type": "code",
      "metadata": {
        "id": "0pHZ_TIKJCbk"
      },
      "source": [
        "onto.CVE20190001.has_severity_level[0]"
      ],
      "execution_count": null,
      "outputs": []
    },
    {
      "cell_type": "code",
      "metadata": {
        "id": "KIxEgrI0JCbl"
      },
      "source": [
        "onto.CVE20190002.has_severity_level[0]"
      ],
      "execution_count": null,
      "outputs": []
    },
    {
      "cell_type": "code",
      "metadata": {
        "id": "CIH3iUSfJCbl"
      },
      "source": [
        "print(onto.CVE20190002.is_vulnerability_of)"
      ],
      "execution_count": null,
      "outputs": []
    },
    {
      "cell_type": "code",
      "metadata": {
        "id": "iwspeCevJCbl"
      },
      "source": [
        "# Assign individual to variable through IRIS name\n",
        "junos_18_2 = IRIS['http://tronto_f.owl#juniper;junos;18.2;*']"
      ],
      "execution_count": null,
      "outputs": []
    },
    {
      "cell_type": "code",
      "metadata": {
        "id": "rElyu291JCbl"
      },
      "source": [
        "onto.CWE400.is_a"
      ],
      "execution_count": null,
      "outputs": []
    },
    {
      "cell_type": "code",
      "metadata": {
        "id": "zwfJo6TUJCbl"
      },
      "source": [
        "junos_17_2.has_vulnerability"
      ],
      "execution_count": null,
      "outputs": []
    },
    {
      "cell_type": "markdown",
      "metadata": {
        "id": "lu6iOhRYJCbl"
      },
      "source": [
        "#### Adding a configuration of interest\n",
        "But what if we want to know about a configuration that is not in the original NIST list? Let's say, an application developped by a team of OSS programmers. What we can do for them is enter it in the system as an instance, listing the dependencies. If one of the dependencies has a vulnerability, the reasoner will conclude that the application is vulnerable as well.\n",
        "\n",
        "The entry will look like this:\n",
        "\n",
        "~~~~\n",
        "<Application rdf:about=\"#my_application\">\n",
        "  <rdf:type rdf:resource=\"http://www.w3.org/2002/07/owl#NamedIndividual\"/>\n",
        "  <depends_on rdf:resource=\"#juniper;junos;17.4;*\"/>\n",
        "</Application>\n",
        "~~~~\n",
        "\n",
        "We can do it dynamically using the methods defined in OWLREADY:"
      ]
    },
    {
      "cell_type": "code",
      "metadata": {
        "id": "pL4YBCOpJCbl"
      },
      "source": [
        "myApp = onto.Application(\"my_application\", depends_on = [junos_18_2])"
      ],
      "execution_count": null,
      "outputs": []
    },
    {
      "cell_type": "code",
      "metadata": {
        "id": "NpDMyU4UJCbl"
      },
      "source": [
        "myApp.is_a"
      ],
      "execution_count": null,
      "outputs": []
    },
    {
      "cell_type": "code",
      "metadata": {
        "id": "UMeTwle8JCbm"
      },
      "source": [
        "myApp.depends_on"
      ],
      "execution_count": null,
      "outputs": []
    },
    {
      "cell_type": "markdown",
      "metadata": {
        "id": "qW8w0HtuJCbm"
      },
      "source": [
        "The last step is to save the updated ontology if we so desire."
      ]
    },
    {
      "cell_type": "code",
      "metadata": {
        "id": "hH3h1X-fJCbm"
      },
      "source": [
        "# Save the updated configuration\n",
        "# onto_1.save(file = \"tronto_c1\")"
      ],
      "execution_count": null,
      "outputs": []
    },
    {
      "cell_type": "markdown",
      "metadata": {
        "id": "HBj7pwnlJCbm"
      },
      "source": [
        "### Re-evaluating a configuration\n",
        "\n",
        "Current version of Junos (as of 2/5/2021): 20.4\n",
        "\n",
        "We want to \"update\" the dependencies of the application to remove vulnerable dependencies and replace them with non-vulnerable ones.\n",
        "\n",
        "PROBLEM: Once the app is classified as vulnerable because of a dependency, how do we reclassify it when the dependency is \"patched\"? \n",
        "\n",
        "One possiblity: if a configuration has no vulnerable dependencies then it is safe. But this would make all of our configurations safe, since they are just listed as unsafe.\n",
        "\n",
        "We may need to make a distinction between \"safe\" and \"secure\". Safety is an inherent property of a configuration. A configuration whose code has a vulnerability is unsafe. Security is a systemic property: a configuration is secure if it is safe and it has no unsafe dependencies. \n",
        "\n",
        "OR: Once we remove a \"has_vulnerability\" relation from an instance, will it be re-classified as not-a-vulnerable configuration? Does the reasoner destroy is-a relations? "
      ]
    },
    {
      "cell_type": "markdown",
      "metadata": {
        "id": "M-XY8F2bJCbm"
      },
      "source": [
        "### MODIFYING A RELATION\n",
        "_NOTE: restart the whole process from here._\n",
        "\n",
        "To modify a relation, i.e. deleting it, set the range to the empty list:\n",
        "\n",
        "`individual.relation = []`\n"
      ]
    },
    {
      "cell_type": "code",
      "metadata": {
        "scrolled": true,
        "id": "45o1z1LgJCbm"
      },
      "source": [
        "from owlready2 import *\n",
        "\n",
        "#Path to local repository\n",
        "onto_path.append('/content/gdrive/My Drive/tronto/')"
      ],
      "execution_count": 179,
      "outputs": []
    },
    {
      "cell_type": "code",
      "metadata": {
        "id": "jhj14KquJCbm"
      },
      "source": [
        "# Specify which ontology we want to load, by IRI\n",
        "currentOnto = \"http://tronto_f.owl\""
      ],
      "execution_count": 180,
      "outputs": []
    },
    {
      "cell_type": "code",
      "metadata": {
        "scrolled": true,
        "id": "Wr6OTEnOJCbm"
      },
      "source": [
        "#load ontology from owl document using IRI\n",
        "onto = get_ontology(currentOnto).load()"
      ],
      "execution_count": 181,
      "outputs": []
    },
    {
      "cell_type": "code",
      "metadata": {
        "id": "Tvue3EAgJCbm"
      },
      "source": [
        "list(onto.classes())"
      ],
      "execution_count": null,
      "outputs": []
    },
    {
      "cell_type": "code",
      "metadata": {
        "id": "DiJ3cGCZJCbn"
      },
      "source": [
        "list(onto.classes())"
      ],
      "execution_count": null,
      "outputs": []
    },
    {
      "cell_type": "code",
      "metadata": {
        "id": "-5pHEXNjJCbn"
      },
      "source": [
        "print(onto.Operating_system.instances())"
      ],
      "execution_count": null,
      "outputs": []
    },
    {
      "cell_type": "markdown",
      "metadata": {
        "id": "RZf1j7BZJCbn"
      },
      "source": [
        "The \"local\" solution does not work because the restrictions on the class \"vulnerable configuration\" have the form of a conditional. Removing the antecedent does not affect the consequent once the truth of the consequent is established. \n",
        "\n",
        "There are two avenues:  \n",
        "a) Adopt a \"global\" solution, where the status of an application as vulnerable or not is evaluated on the basis of the totality of relations the application has to other instances.\n",
        "b) Modify the restrictions on the class \"vulnerable configuration\". This may require setting up a separate class \"secure configuration\", which is disjoint with the former.\n",
        "\n",
        "Property name can be prefixed by “INDIRECT_” to obtain all indirectly related entities. It takes into account:\n",
        "\n",
        "        transitive, symmetric and reflexive properties,\n",
        "        property inheritance (i.e. subproperties),\n",
        "        classes of an individual (i.e. values asserted at the class level),\n",
        "        class inheritance (i.e. parent classes).\n",
        "        equivalences (i.e. equivalent classes, identical “same-as” individuals,…)\n",
        "\n"
      ]
    },
    {
      "cell_type": "code",
      "metadata": {
        "id": "5wvOPL7bJCbn"
      },
      "source": [
        "# Modified function that queries the ontology and returns an \n",
        "# evaluation of the application based on global properties.\n",
        "# It checks to see if any of the dependencies of an app and the \n",
        "# app itself have a \"has_vulnerability\" property that targets a\n",
        "# vulnerability. This is a recursive process, which uses the \n",
        "# transitive nature of the \"depends_on\" property. It exploits the \n",
        "# \"INDIRECT_\" prfix to generate a list of all the dependencies of a\n",
        "# configuration closed under transitivity.\n",
        "\n",
        "def tell_me_if_vulnerable(app):\n",
        "    dependencies = list(app.INDIRECT_depends_on) #generate recursive list of dependencies\n",
        "    dependencies.append(app) #append target app to list\n",
        "    vuln = 0                 #set default vulneable status to NOT VULNEABLE\n",
        "    for d in dependencies: #Check configurations list\n",
        "        if (len(d.has_vulnerability) > 0): #look for member with vulnerability\n",
        "            vuln = 1 #if found, change status to VULNERABLE and exit loop\n",
        "            break\n",
        "    if vuln == 1: #Confirm status and print report\n",
        "        print(\"Yes, it is vulnerable\")\n",
        "        \n",
        "    # Next, see if any vulnerabilities are CRITICAL\n",
        "    \n",
        "        for c in dependencies:\n",
        "            for v in c.has_vulnerability:\n",
        "                if v.has_severity_level[0] > 3.0:\n",
        "                    print(\"WARNING: One or more dependencies have CRITICAL vulnerabilities!\")\n",
        "    else:\n",
        "        print(\"No, it is not vulnerable, AFAIK\")\n",
        "            "
      ],
      "execution_count": null,
      "outputs": []
    },
    {
      "cell_type": "code",
      "metadata": {
        "id": "QMHy0l7-JCbn"
      },
      "source": [
        "tell_me_if_vulnerable(junos_17_2)"
      ],
      "execution_count": null,
      "outputs": []
    },
    {
      "cell_type": "code",
      "metadata": {
        "id": "uzFSf1DUJCbn"
      },
      "source": [
        "tell_me_if_vulnerable(junos_18_2)"
      ],
      "execution_count": null,
      "outputs": []
    },
    {
      "cell_type": "code",
      "metadata": {
        "id": "GjjrfXFBJCbn"
      },
      "source": [
        "tell_me_if_vulnerable(myApp)"
      ],
      "execution_count": null,
      "outputs": []
    },
    {
      "cell_type": "markdown",
      "metadata": {
        "id": "KJ1miYPDJCbn"
      },
      "source": [
        "Now let's patch the dependency"
      ]
    },
    {
      "cell_type": "code",
      "metadata": {
        "id": "C6MuEbWOJCbo"
      },
      "source": [
        "# remove the vulnerability from the range\n",
        "junos_18_2.has_vulnerability = []"
      ],
      "execution_count": null,
      "outputs": []
    },
    {
      "cell_type": "code",
      "metadata": {
        "id": "q5flu56lJCbo"
      },
      "source": [
        "tell_me_if_vulnerable(myApp)"
      ],
      "execution_count": null,
      "outputs": []
    },
    {
      "cell_type": "code",
      "metadata": {
        "id": "DTzzCtDXJCbo"
      },
      "source": [
        "myApp.depends_on"
      ],
      "execution_count": null,
      "outputs": []
    },
    {
      "cell_type": "code",
      "metadata": {
        "id": "w2XLGehzJCbo"
      },
      "source": [
        ""
      ],
      "execution_count": null,
      "outputs": []
    }
  ]
}